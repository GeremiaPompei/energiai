{
 "cells": [
  {
   "cell_type": "code",
   "execution_count": 1,
   "metadata": {
    "collapsed": true
   },
   "outputs": [],
   "source": [
    "%%capture\n",
    "%cd .."
   ]
  },
  {
   "cell_type": "code",
   "execution_count": 2,
   "outputs": [],
   "source": [
    "from src.model.esn import ESN\n",
    "from src.model.lstm import LSTM\n",
    "from src.trainer.ridge_regression_trainer import RidgeRegressionTrainer\n",
    "from src.trainer.bptt_trainer import BPTTTrainer\n",
    "from src.dataset import create_sifim_datasets\n",
    "from src.trainer.model_selection import retraining\n",
    "import torch\n",
    "import matplotlib.pyplot as plt"
   ],
   "metadata": {
    "collapsed": false
   }
  },
  {
   "cell_type": "code",
   "execution_count": 3,
   "outputs": [],
   "source": [
    "batch_size=16\n",
    "shuffle=True\n",
    "\n",
    "tr_dataset, vl_dataset, ts_dataset = create_sifim_datasets(vl_perc=0.2, ts_perc=0.2, noise=0.005)"
   ],
   "metadata": {
    "collapsed": false
   }
  },
  {
   "cell_type": "code",
   "execution_count": 4,
   "outputs": [],
   "source": [
    "def format_result(result):\n",
    "    return dict(mse=result[0], time=result[1], emissions=result[2], **result[3])"
   ],
   "metadata": {
    "collapsed": false
   }
  },
  {
   "cell_type": "code",
   "execution_count": null,
   "outputs": [],
   "source": [
    "lstm_results = []\n",
    "\n",
    "\n",
    "def store_lstm_accuracy(trainer):\n",
    "    lstm_results.append(format_result(trainer.test()))\n",
    "\n",
    "retraining(\n",
    "    model_constructor=LSTM,\n",
    "    trainer_constructor=lambda *args, **kwargs: BPTTTrainer(*args, callback=store_lstm_accuracy, **kwargs),\n",
    "    tr_dataset=tr_dataset,\n",
    "    ts_dataset=ts_dataset,\n",
    "    batch_size=batch_size,\n",
    "    shuffle=shuffle,\n",
    "    hyperparams_path=f'hyperparams/LSTM_hyperparams.json',\n",
    "    model_path=None,  #f'models/LSTM.torch',\n",
    "    history_path=None, #'history/history.json',\n",
    ")"
   ],
   "metadata": {
    "collapsed": false,
    "pycharm": {
     "is_executing": true
    }
   }
  },
  {
   "cell_type": "code",
   "execution_count": null,
   "outputs": [],
   "source": [
    "esn_results = format_result(RidgeRegressionTrainer(\n",
    "    torch.load('models/ESN.torch'),\n",
    "    torch.utils.data.DataLoader(tr_dataset, batch_size=batch_size, shuffle=shuffle),\n",
    "    torch.utils.data.DataLoader(ts_dataset, batch_size=batch_size, shuffle=shuffle),\n",
    ").test())"
   ],
   "metadata": {
    "collapsed": false,
    "pycharm": {
     "is_executing": true
    }
   }
  },
  {
   "cell_type": "code",
   "execution_count": null,
   "outputs": [],
   "source": [
    "def plot(key):\n",
    "    plt.figure(figsize=(12, 7))\n",
    "    plt.title(key)\n",
    "    plt.plot([r[key] for r in lstm_results], label='LSTM')\n",
    "    plt.plot([esn_results[key] for _ in lstm_results], linestyle='--', label='ESN')\n",
    "    plt.xlabel('epochs')\n",
    "    plt.ylabel(key)\n",
    "    plt.grid(True)\n",
    "    plt.legend()\n",
    "    plt.tight_layout()\n",
    "    plt.savefig(f'plots/development_{key}')\n",
    "    plt.show()"
   ],
   "metadata": {
    "collapsed": false,
    "pycharm": {
     "is_executing": true
    }
   }
  },
  {
   "cell_type": "code",
   "execution_count": null,
   "outputs": [],
   "source": [
    "for k in esn_results.keys():\n",
    "    plot(k)"
   ],
   "metadata": {
    "collapsed": false,
    "pycharm": {
     "is_executing": true
    }
   }
  },
  {
   "cell_type": "code",
   "execution_count": null,
   "outputs": [],
   "source": [],
   "metadata": {
    "collapsed": false,
    "pycharm": {
     "is_executing": true
    }
   }
  }
 ],
 "metadata": {
  "kernelspec": {
   "display_name": "Python 3",
   "language": "python",
   "name": "python3"
  },
  "language_info": {
   "codemirror_mode": {
    "name": "ipython",
    "version": 2
   },
   "file_extension": ".py",
   "mimetype": "text/x-python",
   "name": "python",
   "nbconvert_exporter": "python",
   "pygments_lexer": "ipython2",
   "version": "2.7.6"
  }
 },
 "nbformat": 4,
 "nbformat_minor": 0
}
