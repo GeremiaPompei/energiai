{
 "cells": [
  {
   "cell_type": "code",
   "execution_count": 1,
   "metadata": {
    "collapsed": true
   },
   "outputs": [
    {
     "name": "stdout",
     "output_type": "stream",
     "text": [
      "/Users/geremiapompei/Desktop/Progetti/energiai\n"
     ]
    }
   ],
   "source": [
    "%cd ..\n",
    "\n",
    "import pandas as pd\n",
    "from functools import reduce"
   ]
  },
  {
   "cell_type": "markdown",
   "metadata": {
    "collapsed": false
   },
   "source": [
    "raw dataset"
   ]
  },
  {
   "cell_type": "code",
   "execution_count": 2,
   "metadata": {
    "collapsed": false
   },
   "outputs": [
    {
     "data": {
      "text/plain": "                     timestamp    id  sub_id  dpf_fase_1  dpf_fase_2  \\\n0     2023-06-14T21:59:42.978Z  2023       6       0.000       0.000   \n1     2023-06-14T21:59:13.923Z  2023       6       0.000       0.000   \n2     2023-06-14T21:58:45.040Z  2023       6       0.000       0.000   \n3     2023-06-14T21:58:15.702Z  2023       6       0.000       0.000   \n4     2023-06-14T21:57:47.377Z  2023       6       0.000       0.000   \n...                        ...   ...     ...         ...         ...   \n4995  2023-06-13T05:43:37.640Z  2023       6       0.437       0.490   \n4996  2023-06-13T05:43:08.052Z  2023       6       0.499       0.501   \n4997  2023-06-13T05:42:38.814Z  2023       6       0.498       0.498   \n4998  2023-06-13T05:42:09.953Z  2023       6       0.000       0.000   \n4999  2023-06-13T05:41:41.559Z  2023       6       0.000       0.000   \n\n      dpf_fase_3  thd_corrente_fase_1  thd_corrente_fase_2  \\\n0          0.000             0.000000             0.000000   \n1          0.000             0.000000             0.000000   \n2          0.000             0.000000             0.000000   \n3          0.000             0.000000             0.000000   \n4          0.000             0.000000             0.000000   \n...          ...                  ...                  ...   \n4995       0.051            29.980000            47.743000   \n4996       0.060            38.345001            48.140999   \n4997       0.065            39.077000            47.883999   \n4998       0.000             0.000000             0.000000   \n4999       0.000             0.000000             0.000000   \n\n      thd_corrente_fase_3  thd_tensione_l_n_fase_1  ...  \\\n0                   0.000                    0.855  ...   \n1                   0.000                    0.864  ...   \n2                   0.000                    0.894  ...   \n3                   0.000                    0.940  ...   \n4                   0.000                    0.917  ...   \n...                   ...                      ...  ...   \n4995               25.261                    1.921  ...   \n4996               25.017                    1.751  ...   \n4997               24.989                    1.814  ...   \n4998                0.000                    1.730  ...   \n4999                0.000                    1.694  ...   \n\n      potenza_attiva_fase_1  potenza_attiva_fase_2  potenza_attiva_fase_3  \\\n0                  0.000000               0.000000               0.000000   \n1                  0.000000               0.000000               0.000000   \n2                  0.000000               0.000000               0.000000   \n3                  0.000000               0.000000               0.000000   \n4                  0.000000               0.000000               0.000000   \n...                     ...                    ...                    ...   \n4995             149.843002             265.657013              55.933998   \n4996             186.242996             266.562988              55.242001   \n4997             184.962997             269.378998              55.012001   \n4998               0.000000               0.000000               0.000000   \n4999               0.000000               0.000000               0.000000   \n\n      tensione_di_linea_l_l_12  tensione_di_linea_l_l_23  \\\n0                   411.316010                410.485992   \n1                   410.808990                409.931000   \n2                   410.994995                410.144012   \n3                   410.447998                409.619995   \n4                   410.899994                410.268005   \n...                        ...                       ...   \n4995                402.575989                401.574005   \n4996                403.411011                402.411011   \n4997                403.794006                402.772003   \n4998                404.363007                403.087006   \n4999                403.588013                402.578003   \n\n      tensione_di_linea_l_l_31  tensione_di_sistema  tensione_l_n_fase_1  \\\n0                   411.605011           411.148010           237.542999   \n1                   411.080994           410.618988           237.427002   \n2                   411.445007           410.875000           237.550995   \n3                   410.894989           410.332001           237.263000   \n4                   411.388000           410.863007           237.598007   \n...                        ...                  ...                  ...   \n4995                402.907990           402.380005           232.639999   \n4996                403.744995           403.209015           232.968994   \n4997                403.764008           403.437988           233.220001   \n4998                404.401001           403.977997           233.617996   \n4999                403.955994           403.390015           232.962997   \n\n      tensione_l_n_fase_2  tensione_l_n_fase_3  \n0              237.434998           236.964996  \n1              237.130005           236.654999  \n2              237.212006           236.820007  \n3              236.903000           236.529999  \n4              237.235992           236.876007  \n...                   ...                  ...  \n4995           232.001999           232.537994  \n4996           232.438995           232.785004  \n4997           232.656006           233.143005  \n4998           232.960999           233.173004  \n4999           232.867996           232.940994  \n\n[5000 rows x 94 columns]",
      "text/html": "<div>\n<style scoped>\n    .dataframe tbody tr th:only-of-type {\n        vertical-align: middle;\n    }\n\n    .dataframe tbody tr th {\n        vertical-align: top;\n    }\n\n    .dataframe thead th {\n        text-align: right;\n    }\n</style>\n<table border=\"1\" class=\"dataframe\">\n  <thead>\n    <tr style=\"text-align: right;\">\n      <th></th>\n      <th>timestamp</th>\n      <th>id</th>\n      <th>sub_id</th>\n      <th>dpf_fase_1</th>\n      <th>dpf_fase_2</th>\n      <th>dpf_fase_3</th>\n      <th>thd_corrente_fase_1</th>\n      <th>thd_corrente_fase_2</th>\n      <th>thd_corrente_fase_3</th>\n      <th>thd_tensione_l_n_fase_1</th>\n      <th>...</th>\n      <th>potenza_attiva_fase_1</th>\n      <th>potenza_attiva_fase_2</th>\n      <th>potenza_attiva_fase_3</th>\n      <th>tensione_di_linea_l_l_12</th>\n      <th>tensione_di_linea_l_l_23</th>\n      <th>tensione_di_linea_l_l_31</th>\n      <th>tensione_di_sistema</th>\n      <th>tensione_l_n_fase_1</th>\n      <th>tensione_l_n_fase_2</th>\n      <th>tensione_l_n_fase_3</th>\n    </tr>\n  </thead>\n  <tbody>\n    <tr>\n      <th>0</th>\n      <td>2023-06-14T21:59:42.978Z</td>\n      <td>2023</td>\n      <td>6</td>\n      <td>0.000</td>\n      <td>0.000</td>\n      <td>0.000</td>\n      <td>0.000000</td>\n      <td>0.000000</td>\n      <td>0.000</td>\n      <td>0.855</td>\n      <td>...</td>\n      <td>0.000000</td>\n      <td>0.000000</td>\n      <td>0.000000</td>\n      <td>411.316010</td>\n      <td>410.485992</td>\n      <td>411.605011</td>\n      <td>411.148010</td>\n      <td>237.542999</td>\n      <td>237.434998</td>\n      <td>236.964996</td>\n    </tr>\n    <tr>\n      <th>1</th>\n      <td>2023-06-14T21:59:13.923Z</td>\n      <td>2023</td>\n      <td>6</td>\n      <td>0.000</td>\n      <td>0.000</td>\n      <td>0.000</td>\n      <td>0.000000</td>\n      <td>0.000000</td>\n      <td>0.000</td>\n      <td>0.864</td>\n      <td>...</td>\n      <td>0.000000</td>\n      <td>0.000000</td>\n      <td>0.000000</td>\n      <td>410.808990</td>\n      <td>409.931000</td>\n      <td>411.080994</td>\n      <td>410.618988</td>\n      <td>237.427002</td>\n      <td>237.130005</td>\n      <td>236.654999</td>\n    </tr>\n    <tr>\n      <th>2</th>\n      <td>2023-06-14T21:58:45.040Z</td>\n      <td>2023</td>\n      <td>6</td>\n      <td>0.000</td>\n      <td>0.000</td>\n      <td>0.000</td>\n      <td>0.000000</td>\n      <td>0.000000</td>\n      <td>0.000</td>\n      <td>0.894</td>\n      <td>...</td>\n      <td>0.000000</td>\n      <td>0.000000</td>\n      <td>0.000000</td>\n      <td>410.994995</td>\n      <td>410.144012</td>\n      <td>411.445007</td>\n      <td>410.875000</td>\n      <td>237.550995</td>\n      <td>237.212006</td>\n      <td>236.820007</td>\n    </tr>\n    <tr>\n      <th>3</th>\n      <td>2023-06-14T21:58:15.702Z</td>\n      <td>2023</td>\n      <td>6</td>\n      <td>0.000</td>\n      <td>0.000</td>\n      <td>0.000</td>\n      <td>0.000000</td>\n      <td>0.000000</td>\n      <td>0.000</td>\n      <td>0.940</td>\n      <td>...</td>\n      <td>0.000000</td>\n      <td>0.000000</td>\n      <td>0.000000</td>\n      <td>410.447998</td>\n      <td>409.619995</td>\n      <td>410.894989</td>\n      <td>410.332001</td>\n      <td>237.263000</td>\n      <td>236.903000</td>\n      <td>236.529999</td>\n    </tr>\n    <tr>\n      <th>4</th>\n      <td>2023-06-14T21:57:47.377Z</td>\n      <td>2023</td>\n      <td>6</td>\n      <td>0.000</td>\n      <td>0.000</td>\n      <td>0.000</td>\n      <td>0.000000</td>\n      <td>0.000000</td>\n      <td>0.000</td>\n      <td>0.917</td>\n      <td>...</td>\n      <td>0.000000</td>\n      <td>0.000000</td>\n      <td>0.000000</td>\n      <td>410.899994</td>\n      <td>410.268005</td>\n      <td>411.388000</td>\n      <td>410.863007</td>\n      <td>237.598007</td>\n      <td>237.235992</td>\n      <td>236.876007</td>\n    </tr>\n    <tr>\n      <th>...</th>\n      <td>...</td>\n      <td>...</td>\n      <td>...</td>\n      <td>...</td>\n      <td>...</td>\n      <td>...</td>\n      <td>...</td>\n      <td>...</td>\n      <td>...</td>\n      <td>...</td>\n      <td>...</td>\n      <td>...</td>\n      <td>...</td>\n      <td>...</td>\n      <td>...</td>\n      <td>...</td>\n      <td>...</td>\n      <td>...</td>\n      <td>...</td>\n      <td>...</td>\n      <td>...</td>\n    </tr>\n    <tr>\n      <th>4995</th>\n      <td>2023-06-13T05:43:37.640Z</td>\n      <td>2023</td>\n      <td>6</td>\n      <td>0.437</td>\n      <td>0.490</td>\n      <td>0.051</td>\n      <td>29.980000</td>\n      <td>47.743000</td>\n      <td>25.261</td>\n      <td>1.921</td>\n      <td>...</td>\n      <td>149.843002</td>\n      <td>265.657013</td>\n      <td>55.933998</td>\n      <td>402.575989</td>\n      <td>401.574005</td>\n      <td>402.907990</td>\n      <td>402.380005</td>\n      <td>232.639999</td>\n      <td>232.001999</td>\n      <td>232.537994</td>\n    </tr>\n    <tr>\n      <th>4996</th>\n      <td>2023-06-13T05:43:08.052Z</td>\n      <td>2023</td>\n      <td>6</td>\n      <td>0.499</td>\n      <td>0.501</td>\n      <td>0.060</td>\n      <td>38.345001</td>\n      <td>48.140999</td>\n      <td>25.017</td>\n      <td>1.751</td>\n      <td>...</td>\n      <td>186.242996</td>\n      <td>266.562988</td>\n      <td>55.242001</td>\n      <td>403.411011</td>\n      <td>402.411011</td>\n      <td>403.744995</td>\n      <td>403.209015</td>\n      <td>232.968994</td>\n      <td>232.438995</td>\n      <td>232.785004</td>\n    </tr>\n    <tr>\n      <th>4997</th>\n      <td>2023-06-13T05:42:38.814Z</td>\n      <td>2023</td>\n      <td>6</td>\n      <td>0.498</td>\n      <td>0.498</td>\n      <td>0.065</td>\n      <td>39.077000</td>\n      <td>47.883999</td>\n      <td>24.989</td>\n      <td>1.814</td>\n      <td>...</td>\n      <td>184.962997</td>\n      <td>269.378998</td>\n      <td>55.012001</td>\n      <td>403.794006</td>\n      <td>402.772003</td>\n      <td>403.764008</td>\n      <td>403.437988</td>\n      <td>233.220001</td>\n      <td>232.656006</td>\n      <td>233.143005</td>\n    </tr>\n    <tr>\n      <th>4998</th>\n      <td>2023-06-13T05:42:09.953Z</td>\n      <td>2023</td>\n      <td>6</td>\n      <td>0.000</td>\n      <td>0.000</td>\n      <td>0.000</td>\n      <td>0.000000</td>\n      <td>0.000000</td>\n      <td>0.000</td>\n      <td>1.730</td>\n      <td>...</td>\n      <td>0.000000</td>\n      <td>0.000000</td>\n      <td>0.000000</td>\n      <td>404.363007</td>\n      <td>403.087006</td>\n      <td>404.401001</td>\n      <td>403.977997</td>\n      <td>233.617996</td>\n      <td>232.960999</td>\n      <td>233.173004</td>\n    </tr>\n    <tr>\n      <th>4999</th>\n      <td>2023-06-13T05:41:41.559Z</td>\n      <td>2023</td>\n      <td>6</td>\n      <td>0.000</td>\n      <td>0.000</td>\n      <td>0.000</td>\n      <td>0.000000</td>\n      <td>0.000000</td>\n      <td>0.000</td>\n      <td>1.694</td>\n      <td>...</td>\n      <td>0.000000</td>\n      <td>0.000000</td>\n      <td>0.000000</td>\n      <td>403.588013</td>\n      <td>402.578003</td>\n      <td>403.955994</td>\n      <td>403.390015</td>\n      <td>232.962997</td>\n      <td>232.867996</td>\n      <td>232.940994</td>\n    </tr>\n  </tbody>\n</table>\n<p>5000 rows × 94 columns</p>\n</div>"
     },
     "execution_count": 2,
     "metadata": {},
     "output_type": "execute_result"
    }
   ],
   "source": [
    "df_raw = pd.read_csv('dataset/raw/1306-1406.csv')\n",
    "\n",
    "df_raw"
   ]
  },
  {
   "cell_type": "markdown",
   "metadata": {
    "collapsed": false
   },
   "source": [
    "dataset without unused columns"
   ]
  },
  {
   "cell_type": "code",
   "execution_count": 3,
   "metadata": {
    "collapsed": false
   },
   "outputs": [],
   "source": [
    "columns_blacklist = ['timestamp', 'id', 'sub_id', 'contatore_di_installazione', 'contatore_di_misura', 'numero_seriale']\n",
    "\n",
    "df = df_raw.drop(columns=columns_blacklist)"
   ]
  },
  {
   "cell_type": "markdown",
   "metadata": {
    "collapsed": false
   },
   "source": [
    "dataset with switch state on values"
   ]
  },
  {
   "cell_type": "code",
   "execution_count": 4,
   "metadata": {
    "collapsed": false
   },
   "outputs": [],
   "source": [
    "columns_switchoff = ['corrente_di_neutro', 'corrente_di_sistema', 'corrente_fase_1', 'corrente_fase_2', 'corrente_fase_3']\n",
    "threshold_current = 0.1\n",
    "\n",
    "df = df[reduce(lambda x, y: x & y, [df[cs] > threshold_current for cs in columns_switchoff])]"
   ]
  },
  {
   "cell_type": "code",
   "execution_count": 5,
   "metadata": {
    "collapsed": false
   },
   "outputs": [
    {
     "data": {
      "text/plain": "      dpf_fase_1  dpf_fase_2  dpf_fase_3  thd_corrente_fase_1  \\\n453        0.679       0.691       0.318            40.146000   \n454        0.728       0.646       0.422            43.145000   \n455        0.754       0.615       0.466            45.391998   \n456        0.801       0.592       0.446            48.893002   \n457        0.750       0.695       0.294            49.576000   \n...          ...         ...         ...                  ...   \n4993       0.790       0.769       0.397            49.636002   \n4994       0.419       0.496       0.051            29.933001   \n4995       0.437       0.490       0.051            29.980000   \n4996       0.499       0.501       0.060            38.345001   \n4997       0.498       0.498       0.065            39.077000   \n\n      thd_corrente_fase_2  thd_corrente_fase_3  thd_tensione_l_n_fase_1  \\\n453             46.042999            34.689999                    2.038   \n454             46.516998            40.256001                    2.056   \n455             45.886002            42.919998                    2.045   \n456             45.644001            45.671001                    2.043   \n457             47.630001            38.165001                    2.473   \n...                   ...                  ...                      ...   \n4993            48.171001            37.096001                    1.690   \n4994            47.965000            25.188999                    1.923   \n4995            47.743000            25.261000                    1.921   \n4996            48.140999            25.017000                    1.751   \n4997            47.883999            24.989000                    1.814   \n\n      thd_tensione_l_n_fase_2  thd_tensione_l_n_fase_3  \\\n453                     1.663                    1.860   \n454                     1.743                    1.850   \n455                     1.689                    1.835   \n456                     1.747                    1.931   \n457                     2.205                    2.314   \n...                       ...                      ...   \n4993                    1.581                    1.727   \n4994                    1.592                    1.829   \n4995                    1.610                    1.734   \n4996                    1.469                    1.650   \n4997                    1.422                    1.548   \n\n      bilancio_energia_attiva_di_sistema  ...  potenza_attiva_fase_1  \\\n453                          749321.5000  ...             436.036011   \n454                          749311.8125  ...             416.623993   \n455                          749302.8125  ...             428.364014   \n456                          749293.0000  ...             422.139008   \n457                          749283.8125  ...             404.037994   \n...                                  ...  ...                    ...   \n4993                         719323.5000  ...             543.375977   \n4994                         719314.3750  ...             150.882004   \n4995                         719310.6250  ...             149.843002   \n4996                         719306.8750  ...             186.242996   \n4997                         719302.6875  ...             184.962997   \n\n      potenza_attiva_fase_2  potenza_attiva_fase_3  tensione_di_linea_l_l_12  \\\n453              512.002014             254.695999                407.572998   \n454              491.752991             236.334000                408.261993   \n455              503.230011             254.608994                407.053986   \n456              496.135010             241.996002                407.432007   \n457              477.976990             251.179993                403.472992   \n...                     ...                    ...                       ...   \n4993             602.078003             388.128998                402.820007   \n4994             265.440002              55.043999                402.720001   \n4995             265.657013              55.933998                402.575989   \n4996             266.562988              55.242001                403.411011   \n4997             269.378998              55.012001                403.794006   \n\n      tensione_di_linea_l_l_23  tensione_di_linea_l_l_31  tensione_di_sistema  \\\n453                 405.592010                407.101990           406.821014   \n454                 406.286011                407.515991           407.134003   \n455                 405.415009                406.843994           406.544006   \n456                 405.661987                407.186005           406.875000   \n457                 401.677002                403.368988           402.789001   \n...                        ...                       ...                  ...   \n4993                401.800995                403.527008           402.894012   \n4994                401.772003                403.221008           402.648010   \n4995                401.574005                402.907990           402.380005   \n4996                402.411011                403.744995           403.209015   \n4997                402.772003                403.764008           403.437988   \n\n      tensione_l_n_fase_1  tensione_l_n_fase_2  tensione_l_n_fase_3  \n453            235.800995           234.889999           233.841995  \n454            236.229996           235.272003           234.274994  \n455            235.606003           234.699005           233.684998  \n456            235.826004           234.884003           233.783005  \n457            233.621002           232.462006           231.854996  \n...                   ...                  ...                  ...  \n4993           232.705002           232.173996           232.559998  \n4994           232.595001           232.270996           232.602005  \n4995           232.639999           232.001999           232.537994  \n4996           232.968994           232.438995           232.785004  \n4997           233.220001           232.656006           233.143005  \n\n[3171 rows x 88 columns]",
      "text/html": "<div>\n<style scoped>\n    .dataframe tbody tr th:only-of-type {\n        vertical-align: middle;\n    }\n\n    .dataframe tbody tr th {\n        vertical-align: top;\n    }\n\n    .dataframe thead th {\n        text-align: right;\n    }\n</style>\n<table border=\"1\" class=\"dataframe\">\n  <thead>\n    <tr style=\"text-align: right;\">\n      <th></th>\n      <th>dpf_fase_1</th>\n      <th>dpf_fase_2</th>\n      <th>dpf_fase_3</th>\n      <th>thd_corrente_fase_1</th>\n      <th>thd_corrente_fase_2</th>\n      <th>thd_corrente_fase_3</th>\n      <th>thd_tensione_l_n_fase_1</th>\n      <th>thd_tensione_l_n_fase_2</th>\n      <th>thd_tensione_l_n_fase_3</th>\n      <th>bilancio_energia_attiva_di_sistema</th>\n      <th>...</th>\n      <th>potenza_attiva_fase_1</th>\n      <th>potenza_attiva_fase_2</th>\n      <th>potenza_attiva_fase_3</th>\n      <th>tensione_di_linea_l_l_12</th>\n      <th>tensione_di_linea_l_l_23</th>\n      <th>tensione_di_linea_l_l_31</th>\n      <th>tensione_di_sistema</th>\n      <th>tensione_l_n_fase_1</th>\n      <th>tensione_l_n_fase_2</th>\n      <th>tensione_l_n_fase_3</th>\n    </tr>\n  </thead>\n  <tbody>\n    <tr>\n      <th>453</th>\n      <td>0.679</td>\n      <td>0.691</td>\n      <td>0.318</td>\n      <td>40.146000</td>\n      <td>46.042999</td>\n      <td>34.689999</td>\n      <td>2.038</td>\n      <td>1.663</td>\n      <td>1.860</td>\n      <td>749321.5000</td>\n      <td>...</td>\n      <td>436.036011</td>\n      <td>512.002014</td>\n      <td>254.695999</td>\n      <td>407.572998</td>\n      <td>405.592010</td>\n      <td>407.101990</td>\n      <td>406.821014</td>\n      <td>235.800995</td>\n      <td>234.889999</td>\n      <td>233.841995</td>\n    </tr>\n    <tr>\n      <th>454</th>\n      <td>0.728</td>\n      <td>0.646</td>\n      <td>0.422</td>\n      <td>43.145000</td>\n      <td>46.516998</td>\n      <td>40.256001</td>\n      <td>2.056</td>\n      <td>1.743</td>\n      <td>1.850</td>\n      <td>749311.8125</td>\n      <td>...</td>\n      <td>416.623993</td>\n      <td>491.752991</td>\n      <td>236.334000</td>\n      <td>408.261993</td>\n      <td>406.286011</td>\n      <td>407.515991</td>\n      <td>407.134003</td>\n      <td>236.229996</td>\n      <td>235.272003</td>\n      <td>234.274994</td>\n    </tr>\n    <tr>\n      <th>455</th>\n      <td>0.754</td>\n      <td>0.615</td>\n      <td>0.466</td>\n      <td>45.391998</td>\n      <td>45.886002</td>\n      <td>42.919998</td>\n      <td>2.045</td>\n      <td>1.689</td>\n      <td>1.835</td>\n      <td>749302.8125</td>\n      <td>...</td>\n      <td>428.364014</td>\n      <td>503.230011</td>\n      <td>254.608994</td>\n      <td>407.053986</td>\n      <td>405.415009</td>\n      <td>406.843994</td>\n      <td>406.544006</td>\n      <td>235.606003</td>\n      <td>234.699005</td>\n      <td>233.684998</td>\n    </tr>\n    <tr>\n      <th>456</th>\n      <td>0.801</td>\n      <td>0.592</td>\n      <td>0.446</td>\n      <td>48.893002</td>\n      <td>45.644001</td>\n      <td>45.671001</td>\n      <td>2.043</td>\n      <td>1.747</td>\n      <td>1.931</td>\n      <td>749293.0000</td>\n      <td>...</td>\n      <td>422.139008</td>\n      <td>496.135010</td>\n      <td>241.996002</td>\n      <td>407.432007</td>\n      <td>405.661987</td>\n      <td>407.186005</td>\n      <td>406.875000</td>\n      <td>235.826004</td>\n      <td>234.884003</td>\n      <td>233.783005</td>\n    </tr>\n    <tr>\n      <th>457</th>\n      <td>0.750</td>\n      <td>0.695</td>\n      <td>0.294</td>\n      <td>49.576000</td>\n      <td>47.630001</td>\n      <td>38.165001</td>\n      <td>2.473</td>\n      <td>2.205</td>\n      <td>2.314</td>\n      <td>749283.8125</td>\n      <td>...</td>\n      <td>404.037994</td>\n      <td>477.976990</td>\n      <td>251.179993</td>\n      <td>403.472992</td>\n      <td>401.677002</td>\n      <td>403.368988</td>\n      <td>402.789001</td>\n      <td>233.621002</td>\n      <td>232.462006</td>\n      <td>231.854996</td>\n    </tr>\n    <tr>\n      <th>...</th>\n      <td>...</td>\n      <td>...</td>\n      <td>...</td>\n      <td>...</td>\n      <td>...</td>\n      <td>...</td>\n      <td>...</td>\n      <td>...</td>\n      <td>...</td>\n      <td>...</td>\n      <td>...</td>\n      <td>...</td>\n      <td>...</td>\n      <td>...</td>\n      <td>...</td>\n      <td>...</td>\n      <td>...</td>\n      <td>...</td>\n      <td>...</td>\n      <td>...</td>\n      <td>...</td>\n    </tr>\n    <tr>\n      <th>4993</th>\n      <td>0.790</td>\n      <td>0.769</td>\n      <td>0.397</td>\n      <td>49.636002</td>\n      <td>48.171001</td>\n      <td>37.096001</td>\n      <td>1.690</td>\n      <td>1.581</td>\n      <td>1.727</td>\n      <td>719323.5000</td>\n      <td>...</td>\n      <td>543.375977</td>\n      <td>602.078003</td>\n      <td>388.128998</td>\n      <td>402.820007</td>\n      <td>401.800995</td>\n      <td>403.527008</td>\n      <td>402.894012</td>\n      <td>232.705002</td>\n      <td>232.173996</td>\n      <td>232.559998</td>\n    </tr>\n    <tr>\n      <th>4994</th>\n      <td>0.419</td>\n      <td>0.496</td>\n      <td>0.051</td>\n      <td>29.933001</td>\n      <td>47.965000</td>\n      <td>25.188999</td>\n      <td>1.923</td>\n      <td>1.592</td>\n      <td>1.829</td>\n      <td>719314.3750</td>\n      <td>...</td>\n      <td>150.882004</td>\n      <td>265.440002</td>\n      <td>55.043999</td>\n      <td>402.720001</td>\n      <td>401.772003</td>\n      <td>403.221008</td>\n      <td>402.648010</td>\n      <td>232.595001</td>\n      <td>232.270996</td>\n      <td>232.602005</td>\n    </tr>\n    <tr>\n      <th>4995</th>\n      <td>0.437</td>\n      <td>0.490</td>\n      <td>0.051</td>\n      <td>29.980000</td>\n      <td>47.743000</td>\n      <td>25.261000</td>\n      <td>1.921</td>\n      <td>1.610</td>\n      <td>1.734</td>\n      <td>719310.6250</td>\n      <td>...</td>\n      <td>149.843002</td>\n      <td>265.657013</td>\n      <td>55.933998</td>\n      <td>402.575989</td>\n      <td>401.574005</td>\n      <td>402.907990</td>\n      <td>402.380005</td>\n      <td>232.639999</td>\n      <td>232.001999</td>\n      <td>232.537994</td>\n    </tr>\n    <tr>\n      <th>4996</th>\n      <td>0.499</td>\n      <td>0.501</td>\n      <td>0.060</td>\n      <td>38.345001</td>\n      <td>48.140999</td>\n      <td>25.017000</td>\n      <td>1.751</td>\n      <td>1.469</td>\n      <td>1.650</td>\n      <td>719306.8750</td>\n      <td>...</td>\n      <td>186.242996</td>\n      <td>266.562988</td>\n      <td>55.242001</td>\n      <td>403.411011</td>\n      <td>402.411011</td>\n      <td>403.744995</td>\n      <td>403.209015</td>\n      <td>232.968994</td>\n      <td>232.438995</td>\n      <td>232.785004</td>\n    </tr>\n    <tr>\n      <th>4997</th>\n      <td>0.498</td>\n      <td>0.498</td>\n      <td>0.065</td>\n      <td>39.077000</td>\n      <td>47.883999</td>\n      <td>24.989000</td>\n      <td>1.814</td>\n      <td>1.422</td>\n      <td>1.548</td>\n      <td>719302.6875</td>\n      <td>...</td>\n      <td>184.962997</td>\n      <td>269.378998</td>\n      <td>55.012001</td>\n      <td>403.794006</td>\n      <td>402.772003</td>\n      <td>403.764008</td>\n      <td>403.437988</td>\n      <td>233.220001</td>\n      <td>232.656006</td>\n      <td>233.143005</td>\n    </tr>\n  </tbody>\n</table>\n<p>3171 rows × 88 columns</p>\n</div>"
     },
     "execution_count": 5,
     "metadata": {},
     "output_type": "execute_result"
    }
   ],
   "source": [
    "df"
   ]
  },
  {
   "cell_type": "code",
   "execution_count": 6,
   "metadata": {
    "collapsed": false
   },
   "outputs": [
    {
     "data": {
      "text/plain": "array([[6.79000020e-01, 6.90999985e-01, 3.17999989e-01, ...,\n        2.35800995e+02, 2.34889999e+02, 2.33841995e+02],\n       [7.27999985e-01, 6.46000028e-01, 4.21999991e-01, ...,\n        2.36229996e+02, 2.35272003e+02, 2.34274994e+02],\n       [7.54000008e-01, 6.15000010e-01, 4.65999991e-01, ...,\n        2.35606003e+02, 2.34699005e+02, 2.33684998e+02],\n       ...,\n       [4.37000006e-01, 4.90000010e-01, 5.09999990e-02, ...,\n        2.32639999e+02, 2.32001999e+02, 2.32537994e+02],\n       [4.99000013e-01, 5.00999987e-01, 5.99999987e-02, ...,\n        2.32968994e+02, 2.32438995e+02, 2.32785004e+02],\n       [4.97999996e-01, 4.97999996e-01, 6.49999976e-02, ...,\n        2.33220001e+02, 2.32656006e+02, 2.33143005e+02]])"
     },
     "execution_count": 6,
     "metadata": {},
     "output_type": "execute_result"
    }
   ],
   "source": [
    "X = df.to_numpy()\n",
    "\n",
    "X"
   ]
  },
  {
   "cell_type": "markdown",
   "metadata": {
    "collapsed": false
   },
   "source": [
    "normalization (mean, std), (min, max)"
   ]
  },
  {
   "cell_type": "code",
   "execution_count": 7,
   "metadata": {
    "collapsed": false
   },
   "outputs": [
    {
     "data": {
      "text/plain": "array([[6.90402360e-07, 7.02603838e-07, 3.23340112e-07, ...,\n        2.39760764e-04, 2.38834470e-04, 2.37768867e-04],\n       [7.40234818e-07, 6.56856761e-07, 4.29092160e-07, ...,\n        2.40200098e-04, 2.39226005e-04, 2.38212240e-04],\n       [7.66681690e-07, 6.25343822e-07, 4.73837741e-07, ...,\n        2.39568709e-04, 2.38646456e-04, 2.37615394e-04],\n       ...,\n       [4.62756636e-07, 5.18880441e-07, 5.40059214e-08, ...,\n        2.46351721e-04, 2.45676117e-04, 2.46243703e-04],\n       [5.28416917e-07, 5.30534793e-07, 6.35371011e-08, ...,\n        2.46702915e-04, 2.46141671e-04, 2.46508078e-04],\n       [5.27364090e-07, 5.27364090e-07, 6.88326604e-08, ...,\n        2.46971596e-04, 2.46374345e-04, 2.46890060e-04]])"
     },
     "execution_count": 7,
     "metadata": {},
     "output_type": "execute_result"
    }
   ],
   "source": [
    "X_scaled = X.T\n",
    "\n",
    "X_mean = X_scaled.mean(0)\n",
    "X_std = X_scaled.std(0)\n",
    "\n",
    "X_scaled = (X_scaled - X_mean) / X_std\n",
    "\n",
    "X_min = X_scaled.min(0)\n",
    "X_max = X_scaled.max(0)\n",
    "\n",
    "X_scaled = (X_scaled - X_min) / (X_max - X_min)\n",
    "dataset = X_scaled.T\n",
    "\n",
    "dataset"
   ]
  },
  {
   "cell_type": "code",
   "execution_count": 8,
   "metadata": {
    "collapsed": false
   },
   "outputs": [
    {
     "data": {
      "text/plain": "((2853, 88), (318, 88))"
     },
     "execution_count": 8,
     "metadata": {},
     "output_type": "execute_result"
    }
   ],
   "source": [
    "tr_size = int(0.9 * len(dataset))\n",
    "\n",
    "tr_set = dataset[:tr_size]\n",
    "ts_set = dataset[tr_size:]\n",
    "\n",
    "tr_set.shape, ts_set.shape"
   ]
  },
  {
   "cell_type": "code",
   "execution_count": 8,
   "metadata": {
    "collapsed": false
   },
   "outputs": [],
   "source": []
  }
 ],
 "metadata": {
  "kernelspec": {
   "display_name": "Python 3",
   "language": "python",
   "name": "python3"
  },
  "language_info": {
   "codemirror_mode": {
    "name": "ipython",
    "version": 3
   },
   "file_extension": ".py",
   "mimetype": "text/x-python",
   "name": "python",
   "nbconvert_exporter": "python",
   "pygments_lexer": "ipython3",
   "version": "3.10.13"
  }
 },
 "nbformat": 4,
 "nbformat_minor": 0
}
