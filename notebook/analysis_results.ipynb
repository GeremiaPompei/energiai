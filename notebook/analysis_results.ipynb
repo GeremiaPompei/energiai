{
 "cells": [
  {
   "cell_type": "code",
   "execution_count": 1,
   "outputs": [],
   "source": [
    "%%capture\n",
    "%cd .."
   ],
   "metadata": {
    "collapsed": false
   }
  },
  {
   "cell_type": "code",
   "execution_count": 2,
   "metadata": {
    "collapsed": true
   },
   "outputs": [],
   "source": [
    "import pandas as pd"
   ]
  },
  {
   "cell_type": "code",
   "execution_count": 3,
   "outputs": [
    {
     "data": {
      "text/plain": "                       ESN       LSTM\ntr_loss       2.232638e-05   0.000005\nts_loss       2.957168e-05   0.000019\ntr_time       1.091318e-01  27.811604\ntr_emissions  1.138729e-07   0.000029\nts_time       1.030749e+00   1.639349\nts_emissions  1.249187e-06   0.000031\naccuracy      8.465625e-01   0.822956\nprecision     8.939709e-01   0.938881\nrecall        8.097838e-01   0.716284\nf1_score      8.497586e-01   0.812575",
      "text/html": "<div>\n<style scoped>\n    .dataframe tbody tr th:only-of-type {\n        vertical-align: middle;\n    }\n\n    .dataframe tbody tr th {\n        vertical-align: top;\n    }\n\n    .dataframe thead th {\n        text-align: right;\n    }\n</style>\n<table border=\"1\" class=\"dataframe\">\n  <thead>\n    <tr style=\"text-align: right;\">\n      <th></th>\n      <th>ESN</th>\n      <th>LSTM</th>\n    </tr>\n  </thead>\n  <tbody>\n    <tr>\n      <th>tr_loss</th>\n      <td>2.232638e-05</td>\n      <td>0.000005</td>\n    </tr>\n    <tr>\n      <th>ts_loss</th>\n      <td>2.957168e-05</td>\n      <td>0.000019</td>\n    </tr>\n    <tr>\n      <th>tr_time</th>\n      <td>1.091318e-01</td>\n      <td>27.811604</td>\n    </tr>\n    <tr>\n      <th>tr_emissions</th>\n      <td>1.138729e-07</td>\n      <td>0.000029</td>\n    </tr>\n    <tr>\n      <th>ts_time</th>\n      <td>1.030749e+00</td>\n      <td>1.639349</td>\n    </tr>\n    <tr>\n      <th>ts_emissions</th>\n      <td>1.249187e-06</td>\n      <td>0.000031</td>\n    </tr>\n    <tr>\n      <th>accuracy</th>\n      <td>8.465625e-01</td>\n      <td>0.822956</td>\n    </tr>\n    <tr>\n      <th>precision</th>\n      <td>8.939709e-01</td>\n      <td>0.938881</td>\n    </tr>\n    <tr>\n      <th>recall</th>\n      <td>8.097838e-01</td>\n      <td>0.716284</td>\n    </tr>\n    <tr>\n      <th>f1_score</th>\n      <td>8.497586e-01</td>\n      <td>0.812575</td>\n    </tr>\n  </tbody>\n</table>\n</div>"
     },
     "execution_count": 3,
     "metadata": {},
     "output_type": "execute_result"
    }
   ],
   "source": [
    "df = pd.read_json('history/history.json')\n",
    "\n",
    "df"
   ],
   "metadata": {
    "collapsed": false
   }
  },
  {
   "cell_type": "code",
   "execution_count": 4,
   "outputs": [
    {
     "name": "stderr",
     "output_type": "stream",
     "text": [
      "/var/folders/mk/7s16j9k90j15d4m_gz0c5txc0000gn/T/ipykernel_32523/1131562115.py:4: FutureWarning: DataFrame.applymap has been deprecated. Use DataFrame.map instead.\n",
      "  dftmp = dftmp.applymap(lambda x: f'{x:g}')\n"
     ]
    },
    {
     "name": "stdout",
     "output_type": "stream",
     "text": [
      "\\begin{tabular}{lll}\n",
      " & ESN & LSTM \\\\ \\hline\n",
      "tr loss & 2.23264e-05 & 4.91341e-06 \\\\ \\hline\n",
      "ts loss & 2.95717e-05 & 1.88201e-05 \\\\ \\hline\n",
      "tr time & 0.109132 & 27.8116 \\\\ \\hline\n",
      "tr emissions & 1.13873e-07 & 2.89613e-05 \\\\ \\hline\n",
      "ts time & 1.03075 & 1.63935 \\\\ \\hline\n",
      "ts emissions & 1.24919e-06 & 3.10346e-05 \\\\ \\hline\n",
      "accuracy & 84.6563 & 82.2956 \\\\ \\hline\n",
      "precision & 89.3971 & 93.8881 \\\\ \\hline\n",
      "recall & 80.9784 & 71.6284 \\\\ \\hline\n",
      "f1 score & 84.9759 & 81.2575 \\\\ \\hline\n",
      "\\end{tabular}\n",
      "\n"
     ]
    }
   ],
   "source": [
    "dftmp = df.T\n",
    "for m in ['accuracy', 'precision', 'recall', 'f1_score']:\n",
    "    dftmp[m] = dftmp[m] * 100\n",
    "dftmp = dftmp.applymap(lambda x: f'{x:g}')\n",
    "table = dftmp.T.to_latex(float_format=\"{:.8f}\".format)\n",
    "\n",
    "for s in ['\\\\toprule\\n', '\\\\midrule\\n', '\\\\bottomrule\\n']:\n",
    "    table = table.replace(s, '')\n",
    "table = table.replace('_', ' ').replace('|}', '|} \\\\hline').replace('\\\\\\\\', '\\\\\\\\ \\\\hline')\n",
    "\n",
    "print(table)"
   ],
   "metadata": {
    "collapsed": false
   }
  },
  {
   "cell_type": "code",
   "execution_count": 4,
   "outputs": [],
   "source": [],
   "metadata": {
    "collapsed": false
   }
  }
 ],
 "metadata": {
  "kernelspec": {
   "display_name": "Python 3",
   "language": "python",
   "name": "python3"
  },
  "language_info": {
   "codemirror_mode": {
    "name": "ipython",
    "version": 2
   },
   "file_extension": ".py",
   "mimetype": "text/x-python",
   "name": "python",
   "nbconvert_exporter": "python",
   "pygments_lexer": "ipython2",
   "version": "2.7.6"
  }
 },
 "nbformat": 4,
 "nbformat_minor": 0
}
