{
 "cells": [
  {
   "cell_type": "code",
   "execution_count": 1,
   "outputs": [],
   "source": [
    "%%capture\n",
    "%cd .."
   ],
   "metadata": {
    "collapsed": false
   }
  },
  {
   "cell_type": "code",
   "execution_count": 2,
   "metadata": {
    "collapsed": true
   },
   "outputs": [],
   "source": [
    "import pandas as pd"
   ]
  },
  {
   "cell_type": "code",
   "execution_count": 3,
   "outputs": [
    {
     "data": {
      "text/plain": "                   ESN         LSTM\ntr_loss       0.000026     0.000004\nts_loss       0.000028     0.000017\ntr_time       1.804245  1102.457947\ntr_emissions  0.000007     0.004470\nts_time       4.788615    20.145262\nts_emissions  0.000031     0.004578\naccuracy      0.834187     0.819782\nprecision     0.864857     0.935919\nrecall        0.819302     0.712478\nf1_score      0.841289     0.809027",
      "text/html": "<div>\n<style scoped>\n    .dataframe tbody tr th:only-of-type {\n        vertical-align: middle;\n    }\n\n    .dataframe tbody tr th {\n        vertical-align: top;\n    }\n\n    .dataframe thead th {\n        text-align: right;\n    }\n</style>\n<table border=\"1\" class=\"dataframe\">\n  <thead>\n    <tr style=\"text-align: right;\">\n      <th></th>\n      <th>ESN</th>\n      <th>LSTM</th>\n    </tr>\n  </thead>\n  <tbody>\n    <tr>\n      <th>tr_loss</th>\n      <td>0.000026</td>\n      <td>0.000004</td>\n    </tr>\n    <tr>\n      <th>ts_loss</th>\n      <td>0.000028</td>\n      <td>0.000017</td>\n    </tr>\n    <tr>\n      <th>tr_time</th>\n      <td>1.804245</td>\n      <td>1102.457947</td>\n    </tr>\n    <tr>\n      <th>tr_emissions</th>\n      <td>0.000007</td>\n      <td>0.004470</td>\n    </tr>\n    <tr>\n      <th>ts_time</th>\n      <td>4.788615</td>\n      <td>20.145262</td>\n    </tr>\n    <tr>\n      <th>ts_emissions</th>\n      <td>0.000031</td>\n      <td>0.004578</td>\n    </tr>\n    <tr>\n      <th>accuracy</th>\n      <td>0.834187</td>\n      <td>0.819782</td>\n    </tr>\n    <tr>\n      <th>precision</th>\n      <td>0.864857</td>\n      <td>0.935919</td>\n    </tr>\n    <tr>\n      <th>recall</th>\n      <td>0.819302</td>\n      <td>0.712478</td>\n    </tr>\n    <tr>\n      <th>f1_score</th>\n      <td>0.841289</td>\n      <td>0.809027</td>\n    </tr>\n  </tbody>\n</table>\n</div>"
     },
     "execution_count": 3,
     "metadata": {},
     "output_type": "execute_result"
    }
   ],
   "source": [
    "df = pd.read_json('history/history.json')\n",
    "\n",
    "df"
   ],
   "metadata": {
    "collapsed": false
   }
  },
  {
   "cell_type": "code",
   "execution_count": 4,
   "outputs": [
    {
     "name": "stderr",
     "output_type": "stream",
     "text": [
      "/var/folders/mk/7s16j9k90j15d4m_gz0c5txc0000gn/T/ipykernel_32854/1131562115.py:4: FutureWarning: DataFrame.applymap has been deprecated. Use DataFrame.map instead.\n",
      "  dftmp = dftmp.applymap(lambda x: f'{x:g}')\n"
     ]
    },
    {
     "name": "stdout",
     "output_type": "stream",
     "text": [
      "\\begin{tabular}{lll}\n",
      " & ESN & LSTM \\\\ \\hline\n",
      "tr loss & 2.57702e-05 & 4.38901e-06 \\\\ \\hline\n",
      "ts loss & 2.78122e-05 & 1.71829e-05 \\\\ \\hline\n",
      "tr time & 1.80425 & 1102.46 \\\\ \\hline\n",
      "tr emissions & 7.32303e-06 & 0.00447022 \\\\ \\hline\n",
      "ts time & 4.78861 & 20.1453 \\\\ \\hline\n",
      "ts emissions & 3.07656e-05 & 0.00457755 \\\\ \\hline\n",
      "accuracy & 83.4187 & 81.9782 \\\\ \\hline\n",
      "precision & 86.4857 & 93.5919 \\\\ \\hline\n",
      "recall & 81.9302 & 71.2478 \\\\ \\hline\n",
      "f1 score & 84.1289 & 80.9027 \\\\ \\hline\n",
      "\\end{tabular}\n",
      "\n"
     ]
    }
   ],
   "source": [
    "dftmp = df.T\n",
    "for m in ['accuracy', 'precision', 'recall', 'f1_score']:\n",
    "    dftmp[m] = dftmp[m] * 100\n",
    "dftmp = dftmp.applymap(lambda x: f'{x:g}')\n",
    "table = dftmp.T.to_latex(float_format=\"{:.8f}\".format)\n",
    "\n",
    "for s in ['\\\\toprule\\n', '\\\\midrule\\n', '\\\\bottomrule\\n']:\n",
    "    table = table.replace(s, '')\n",
    "table = table.replace('_', ' ').replace('|}', '|} \\\\hline').replace('\\\\\\\\', '\\\\\\\\ \\\\hline')\n",
    "\n",
    "print(table)"
   ],
   "metadata": {
    "collapsed": false
   }
  },
  {
   "cell_type": "code",
   "execution_count": 4,
   "outputs": [],
   "source": [],
   "metadata": {
    "collapsed": false
   }
  }
 ],
 "metadata": {
  "kernelspec": {
   "display_name": "Python 3",
   "language": "python",
   "name": "python3"
  },
  "language_info": {
   "codemirror_mode": {
    "name": "ipython",
    "version": 2
   },
   "file_extension": ".py",
   "mimetype": "text/x-python",
   "name": "python",
   "nbconvert_exporter": "python",
   "pygments_lexer": "ipython2",
   "version": "2.7.6"
  }
 },
 "nbformat": 4,
 "nbformat_minor": 0
}
