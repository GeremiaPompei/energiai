{
 "cells": [
  {
   "cell_type": "code",
   "execution_count": 1,
   "outputs": [],
   "source": [
    "%%capture\n",
    "%cd .."
   ],
   "metadata": {
    "collapsed": false
   }
  },
  {
   "cell_type": "code",
   "execution_count": 2,
   "metadata": {
    "collapsed": true
   },
   "outputs": [],
   "source": [
    "import pandas as pd"
   ]
  },
  {
   "cell_type": "code",
   "execution_count": 3,
   "outputs": [
    {
     "data": {
      "text/plain": "                       ESN        LSTM\ntr_loss       1.866155e-05    0.000004\nts_loss       1.592774e-01    0.180898\ntr_time       4.026520e-01  115.940920\ntr_emissions  4.196322e-07    0.000121\nts_time       4.755809e-01    0.677624\nts_emissions  1.279115e-06    0.000122\naccuracy      8.407226e-01    0.819102\nprecision     9.493657e-01    0.949390\nrecall        7.425417e-01    0.699657\nf1_score      8.332284e-01    0.805602",
      "text/html": "<div>\n<style scoped>\n    .dataframe tbody tr th:only-of-type {\n        vertical-align: middle;\n    }\n\n    .dataframe tbody tr th {\n        vertical-align: top;\n    }\n\n    .dataframe thead th {\n        text-align: right;\n    }\n</style>\n<table border=\"1\" class=\"dataframe\">\n  <thead>\n    <tr style=\"text-align: right;\">\n      <th></th>\n      <th>ESN</th>\n      <th>LSTM</th>\n    </tr>\n  </thead>\n  <tbody>\n    <tr>\n      <th>tr_loss</th>\n      <td>1.866155e-05</td>\n      <td>0.000004</td>\n    </tr>\n    <tr>\n      <th>ts_loss</th>\n      <td>1.592774e-01</td>\n      <td>0.180898</td>\n    </tr>\n    <tr>\n      <th>tr_time</th>\n      <td>4.026520e-01</td>\n      <td>115.940920</td>\n    </tr>\n    <tr>\n      <th>tr_emissions</th>\n      <td>4.196322e-07</td>\n      <td>0.000121</td>\n    </tr>\n    <tr>\n      <th>ts_time</th>\n      <td>4.755809e-01</td>\n      <td>0.677624</td>\n    </tr>\n    <tr>\n      <th>ts_emissions</th>\n      <td>1.279115e-06</td>\n      <td>0.000122</td>\n    </tr>\n    <tr>\n      <th>accuracy</th>\n      <td>8.407226e-01</td>\n      <td>0.819102</td>\n    </tr>\n    <tr>\n      <th>precision</th>\n      <td>9.493657e-01</td>\n      <td>0.949390</td>\n    </tr>\n    <tr>\n      <th>recall</th>\n      <td>7.425417e-01</td>\n      <td>0.699657</td>\n    </tr>\n    <tr>\n      <th>f1_score</th>\n      <td>8.332284e-01</td>\n      <td>0.805602</td>\n    </tr>\n  </tbody>\n</table>\n</div>"
     },
     "execution_count": 3,
     "metadata": {},
     "output_type": "execute_result"
    }
   ],
   "source": [
    "df = pd.read_json('history/history.json')\n",
    "\n",
    "df"
   ],
   "metadata": {
    "collapsed": false
   }
  },
  {
   "cell_type": "code",
   "execution_count": 4,
   "outputs": [
    {
     "name": "stderr",
     "output_type": "stream",
     "text": [
      "/var/folders/mk/7s16j9k90j15d4m_gz0c5txc0000gn/T/ipykernel_1203/1131562115.py:4: FutureWarning: DataFrame.applymap has been deprecated. Use DataFrame.map instead.\n",
      "  dftmp = dftmp.applymap(lambda x: f'{x:g}')\n"
     ]
    },
    {
     "name": "stdout",
     "output_type": "stream",
     "text": [
      "\\begin{tabular}{lll}\n",
      " & ESN & LSTM \\\\ \\hline\n",
      "tr loss & 1.86615e-05 & 4.03025e-06 \\\\ \\hline\n",
      "ts loss & 0.159277 & 0.180898 \\\\ \\hline\n",
      "tr time & 0.402652 & 115.941 \\\\ \\hline\n",
      "tr emissions & 4.19632e-07 & 0.000120727 \\\\ \\hline\n",
      "ts time & 0.475581 & 0.677624 \\\\ \\hline\n",
      "ts emissions & 1.27912e-06 & 0.000122175 \\\\ \\hline\n",
      "accuracy & 84.0723 & 81.9102 \\\\ \\hline\n",
      "precision & 94.9366 & 94.939 \\\\ \\hline\n",
      "recall & 74.2542 & 69.9657 \\\\ \\hline\n",
      "f1 score & 83.3228 & 80.5602 \\\\ \\hline\n",
      "\\end{tabular}\n",
      "\n"
     ]
    }
   ],
   "source": [
    "dftmp = df.T\n",
    "for m in ['accuracy', 'precision', 'recall', 'f1_score']:\n",
    "    dftmp[m] = dftmp[m] * 100\n",
    "dftmp = dftmp.applymap(lambda x: f'{x:g}')\n",
    "table = dftmp.T.to_latex(float_format=\"{:.8f}\".format)\n",
    "\n",
    "for s in ['\\\\toprule\\n', '\\\\midrule\\n', '\\\\bottomrule\\n']:\n",
    "    table = table.replace(s, '')\n",
    "table = table.replace('_', ' ').replace('|}', '|} \\\\hline').replace('\\\\\\\\', '\\\\\\\\ \\\\hline')\n",
    "\n",
    "print(table)"
   ],
   "metadata": {
    "collapsed": false
   }
  },
  {
   "cell_type": "code",
   "execution_count": 4,
   "outputs": [],
   "source": [],
   "metadata": {
    "collapsed": false
   }
  }
 ],
 "metadata": {
  "kernelspec": {
   "display_name": "Python 3",
   "language": "python",
   "name": "python3"
  },
  "language_info": {
   "codemirror_mode": {
    "name": "ipython",
    "version": 2
   },
   "file_extension": ".py",
   "mimetype": "text/x-python",
   "name": "python",
   "nbconvert_exporter": "python",
   "pygments_lexer": "ipython2",
   "version": "2.7.6"
  }
 },
 "nbformat": 4,
 "nbformat_minor": 0
}
