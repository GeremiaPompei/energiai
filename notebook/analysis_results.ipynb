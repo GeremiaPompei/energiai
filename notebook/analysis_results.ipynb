{
 "cells": [
  {
   "cell_type": "code",
   "execution_count": 1,
   "outputs": [],
   "source": [
    "%%capture\n",
    "%cd .."
   ],
   "metadata": {
    "collapsed": false
   }
  },
  {
   "cell_type": "code",
   "execution_count": 2,
   "metadata": {
    "collapsed": true
   },
   "outputs": [],
   "source": [
    "import pandas as pd"
   ]
  },
  {
   "cell_type": "code",
   "execution_count": 3,
   "outputs": [
    {
     "data": {
      "text/plain": "                    ESN       LSTM\ntr_loss    6.655461e-05   0.000339\nts_loss    1.054187e-02   0.011823\ntr_time    3.227599e-01  23.338349\nemissions  3.364950e-07   0.000024\naccuracy   9.894581e-01   0.988177\nprecision  9.854635e-01   0.996804\nrecall     9.942857e-01   0.980286\nf1_score   9.898549e-01   0.988476",
      "text/html": "<div>\n<style scoped>\n    .dataframe tbody tr th:only-of-type {\n        vertical-align: middle;\n    }\n\n    .dataframe tbody tr th {\n        vertical-align: top;\n    }\n\n    .dataframe thead th {\n        text-align: right;\n    }\n</style>\n<table border=\"1\" class=\"dataframe\">\n  <thead>\n    <tr style=\"text-align: right;\">\n      <th></th>\n      <th>ESN</th>\n      <th>LSTM</th>\n    </tr>\n  </thead>\n  <tbody>\n    <tr>\n      <th>tr_loss</th>\n      <td>6.655461e-05</td>\n      <td>0.000339</td>\n    </tr>\n    <tr>\n      <th>ts_loss</th>\n      <td>1.054187e-02</td>\n      <td>0.011823</td>\n    </tr>\n    <tr>\n      <th>tr_time</th>\n      <td>3.227599e-01</td>\n      <td>23.338349</td>\n    </tr>\n    <tr>\n      <th>emissions</th>\n      <td>3.364950e-07</td>\n      <td>0.000024</td>\n    </tr>\n    <tr>\n      <th>accuracy</th>\n      <td>9.894581e-01</td>\n      <td>0.988177</td>\n    </tr>\n    <tr>\n      <th>precision</th>\n      <td>9.854635e-01</td>\n      <td>0.996804</td>\n    </tr>\n    <tr>\n      <th>recall</th>\n      <td>9.942857e-01</td>\n      <td>0.980286</td>\n    </tr>\n    <tr>\n      <th>f1_score</th>\n      <td>9.898549e-01</td>\n      <td>0.988476</td>\n    </tr>\n  </tbody>\n</table>\n</div>"
     },
     "execution_count": 3,
     "metadata": {},
     "output_type": "execute_result"
    }
   ],
   "source": [
    "df = pd.read_json('history/history.json')\n",
    "\n",
    "df"
   ],
   "metadata": {
    "collapsed": false
   }
  },
  {
   "cell_type": "code",
   "execution_count": 4,
   "outputs": [
    {
     "name": "stderr",
     "output_type": "stream",
     "text": [
      "/var/folders/mk/7s16j9k90j15d4m_gz0c5txc0000gn/T/ipykernel_2648/1131562115.py:4: FutureWarning: DataFrame.applymap has been deprecated. Use DataFrame.map instead.\n",
      "  dftmp = dftmp.applymap(lambda x: f'{x:g}')\n"
     ]
    },
    {
     "name": "stdout",
     "output_type": "stream",
     "text": [
      "\\begin{tabular}{lll}\n",
      " & ESN & LSTM \\\\ \\hline\n",
      "tr loss & 6.65546e-05 & 0.000338708 \\\\ \\hline\n",
      "ts loss & 0.0105419 & 0.0118227 \\\\ \\hline\n",
      "tr time & 0.32276 & 23.3383 \\\\ \\hline\n",
      "emissions & 3.36495e-07 & 2.43027e-05 \\\\ \\hline\n",
      "accuracy & 98.9458 & 98.8177 \\\\ \\hline\n",
      "precision & 98.5463 & 99.6804 \\\\ \\hline\n",
      "recall & 99.4286 & 98.0286 \\\\ \\hline\n",
      "f1 score & 98.9855 & 98.8476 \\\\ \\hline\n",
      "\\end{tabular}\n",
      "\n"
     ]
    }
   ],
   "source": [
    "dftmp = df.T\n",
    "for m in ['accuracy', 'precision', 'recall', 'f1_score']:\n",
    "    dftmp[m] = dftmp[m] * 100\n",
    "dftmp = dftmp.applymap(lambda x: f'{x:g}')\n",
    "table = dftmp.T.to_latex(float_format=\"{:.8f}\".format)\n",
    "\n",
    "for s in ['\\\\toprule\\n', '\\\\midrule\\n', '\\\\bottomrule\\n']:\n",
    "    table = table.replace(s, '')\n",
    "table = table.replace('_', ' ').replace('|}', '|} \\\\hline').replace('\\\\\\\\', '\\\\\\\\ \\\\hline')\n",
    "\n",
    "print(table)"
   ],
   "metadata": {
    "collapsed": false
   }
  },
  {
   "cell_type": "code",
   "execution_count": 4,
   "outputs": [],
   "source": [],
   "metadata": {
    "collapsed": false
   }
  }
 ],
 "metadata": {
  "kernelspec": {
   "display_name": "Python 3",
   "language": "python",
   "name": "python3"
  },
  "language_info": {
   "codemirror_mode": {
    "name": "ipython",
    "version": 2
   },
   "file_extension": ".py",
   "mimetype": "text/x-python",
   "name": "python",
   "nbconvert_exporter": "python",
   "pygments_lexer": "ipython2",
   "version": "2.7.6"
  }
 },
 "nbformat": 4,
 "nbformat_minor": 0
}
