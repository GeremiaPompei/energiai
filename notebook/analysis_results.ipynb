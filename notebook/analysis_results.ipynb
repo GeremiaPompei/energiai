{
 "cells": [
  {
   "cell_type": "code",
   "execution_count": 1,
   "outputs": [],
   "source": [
    "%%capture\n",
    "%cd .."
   ],
   "metadata": {
    "collapsed": false
   }
  },
  {
   "cell_type": "code",
   "execution_count": 2,
   "metadata": {
    "collapsed": true
   },
   "outputs": [],
   "source": [
    "import pandas as pd"
   ]
  },
  {
   "cell_type": "code",
   "execution_count": 3,
   "outputs": [
    {
     "data": {
      "text/plain": "                       ESN       LSTM\ntr_loss       8.613183e-05   0.000005\nts_loss       6.284675e-05   0.000019\ntr_time       2.127202e-01  26.962864\ntr_emissions  2.221572e-07   0.000028\nts_time       1.067043e+00   1.458847\nts_emissions  1.111718e-06   0.000002\naccuracy      8.274085e-01   0.820942\nprecision     9.380765e-01   0.939942\nrecall        7.259012e-01   0.711338\nf1_score      8.183839e-01   0.809780",
      "text/html": "<div>\n<style scoped>\n    .dataframe tbody tr th:only-of-type {\n        vertical-align: middle;\n    }\n\n    .dataframe tbody tr th {\n        vertical-align: top;\n    }\n\n    .dataframe thead th {\n        text-align: right;\n    }\n</style>\n<table border=\"1\" class=\"dataframe\">\n  <thead>\n    <tr style=\"text-align: right;\">\n      <th></th>\n      <th>ESN</th>\n      <th>LSTM</th>\n    </tr>\n  </thead>\n  <tbody>\n    <tr>\n      <th>tr_loss</th>\n      <td>8.613183e-05</td>\n      <td>0.000005</td>\n    </tr>\n    <tr>\n      <th>ts_loss</th>\n      <td>6.284675e-05</td>\n      <td>0.000019</td>\n    </tr>\n    <tr>\n      <th>tr_time</th>\n      <td>2.127202e-01</td>\n      <td>26.962864</td>\n    </tr>\n    <tr>\n      <th>tr_emissions</th>\n      <td>2.221572e-07</td>\n      <td>0.000028</td>\n    </tr>\n    <tr>\n      <th>ts_time</th>\n      <td>1.067043e+00</td>\n      <td>1.458847</td>\n    </tr>\n    <tr>\n      <th>ts_emissions</th>\n      <td>1.111718e-06</td>\n      <td>0.000002</td>\n    </tr>\n    <tr>\n      <th>accuracy</th>\n      <td>8.274085e-01</td>\n      <td>0.820942</td>\n    </tr>\n    <tr>\n      <th>precision</th>\n      <td>9.380765e-01</td>\n      <td>0.939942</td>\n    </tr>\n    <tr>\n      <th>recall</th>\n      <td>7.259012e-01</td>\n      <td>0.711338</td>\n    </tr>\n    <tr>\n      <th>f1_score</th>\n      <td>8.183839e-01</td>\n      <td>0.809780</td>\n    </tr>\n  </tbody>\n</table>\n</div>"
     },
     "execution_count": 3,
     "metadata": {},
     "output_type": "execute_result"
    }
   ],
   "source": [
    "df = pd.read_json('history/history.json')\n",
    "\n",
    "df"
   ],
   "metadata": {
    "collapsed": false
   }
  },
  {
   "cell_type": "code",
   "execution_count": 4,
   "outputs": [
    {
     "name": "stderr",
     "output_type": "stream",
     "text": [
      "/var/folders/mk/7s16j9k90j15d4m_gz0c5txc0000gn/T/ipykernel_34775/1131562115.py:4: FutureWarning: DataFrame.applymap has been deprecated. Use DataFrame.map instead.\n",
      "  dftmp = dftmp.applymap(lambda x: f'{x:g}')\n"
     ]
    },
    {
     "name": "stdout",
     "output_type": "stream",
     "text": [
      "\\begin{tabular}{lll}\n",
      " & ESN & LSTM \\\\ \\hline\n",
      "tr loss & 8.61318e-05 & 4.91341e-06 \\\\ \\hline\n",
      "ts loss & 6.28467e-05 & 1.88201e-05 \\\\ \\hline\n",
      "tr time & 0.21272 & 26.9629 \\\\ \\hline\n",
      "tr emissions & 2.22157e-07 & 2.80771e-05 \\\\ \\hline\n",
      "ts time & 1.06704 & 1.45885 \\\\ \\hline\n",
      "ts emissions & 1.11172e-06 & 1.51956e-06 \\\\ \\hline\n",
      "accuracy & 82.7409 & 82.0942 \\\\ \\hline\n",
      "precision & 93.8077 & 93.9942 \\\\ \\hline\n",
      "recall & 72.5901 & 71.1338 \\\\ \\hline\n",
      "f1 score & 81.8384 & 80.978 \\\\ \\hline\n",
      "\\end{tabular}\n",
      "\n"
     ]
    }
   ],
   "source": [
    "dftmp = df.T\n",
    "for m in ['accuracy', 'precision', 'recall', 'f1_score']:\n",
    "    dftmp[m] = dftmp[m] * 100\n",
    "dftmp = dftmp.applymap(lambda x: f'{x:g}')\n",
    "table = dftmp.T.to_latex(float_format=\"{:.8f}\".format)\n",
    "\n",
    "for s in ['\\\\toprule\\n', '\\\\midrule\\n', '\\\\bottomrule\\n']:\n",
    "    table = table.replace(s, '')\n",
    "table = table.replace('_', ' ').replace('|}', '|} \\\\hline').replace('\\\\\\\\', '\\\\\\\\ \\\\hline')\n",
    "\n",
    "print(table)"
   ],
   "metadata": {
    "collapsed": false
   }
  },
  {
   "cell_type": "code",
   "execution_count": 4,
   "outputs": [],
   "source": [],
   "metadata": {
    "collapsed": false
   }
  }
 ],
 "metadata": {
  "kernelspec": {
   "display_name": "Python 3",
   "language": "python",
   "name": "python3"
  },
  "language_info": {
   "codemirror_mode": {
    "name": "ipython",
    "version": 2
   },
   "file_extension": ".py",
   "mimetype": "text/x-python",
   "name": "python",
   "nbconvert_exporter": "python",
   "pygments_lexer": "ipython2",
   "version": "2.7.6"
  }
 },
 "nbformat": 4,
 "nbformat_minor": 0
}
