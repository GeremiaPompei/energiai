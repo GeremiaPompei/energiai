{
 "cells": [
  {
   "cell_type": "code",
   "execution_count": 1,
   "metadata": {
    "collapsed": true
   },
   "outputs": [
    {
     "name": "stdout",
     "output_type": "stream",
     "text": [
      "/Users/geremiapompei/Desktop/Progetti/energiai\n"
     ]
    }
   ],
   "source": [
    "%cd ..\n",
    "\n",
    "# !git clone https://github.com/GeremiaPompei/energiai\n",
    "# %cd energiai"
   ]
  },
  {
   "cell_type": "code",
   "execution_count": 2,
   "outputs": [],
   "source": [
    "from src.utility.hyperparams_generator import gridsearch_generator\n",
    "from src.runner.model_selection_pipeline import model_selection_pipeline\n",
    "from src.preprocessing import preprocessing_pipeline\n",
    "import random"
   ],
   "metadata": {
    "collapsed": false
   }
  },
  {
   "cell_type": "markdown",
   "source": [
    "## Preprocessing"
   ],
   "metadata": {
    "collapsed": false
   }
  },
  {
   "cell_type": "code",
   "execution_count": 3,
   "outputs": [],
   "source": [
    "preprocessing_pipeline(raw_dir='dataset/raw', output_dir='dataset')"
   ],
   "metadata": {
    "collapsed": false
   }
  },
  {
   "cell_type": "markdown",
   "source": [
    "## Model selection"
   ],
   "metadata": {
    "collapsed": false
   }
  },
  {
   "cell_type": "code",
   "execution_count": 4,
   "outputs": [
    {
     "name": "stdout",
     "output_type": "stream",
     "text": [
      "2023-10-31 11:49:24,647 - root - INFO - Start iteration 1/102 => hyperparams: {'trainer_lr': 0.001, 'model_hidden_dim': 400, 'model_latent_dim': 200}\n",
      "2023-10-31 11:49:24,886 - root - INFO - Start iteration 2/102 => hyperparams: {'trainer_lr': 0.01, 'model_hidden_dim': 400, 'model_latent_dim': 200}\n"
     ]
    },
    {
     "ename": "RuntimeError",
     "evalue": "all elements of input should be between 0 and 1",
     "output_type": "error",
     "traceback": [
      "\u001B[0;31m---------------------------------------------------------------------------\u001B[0m",
      "\u001B[0;31mRuntimeError\u001B[0m                              Traceback (most recent call last)",
      "Cell \u001B[0;32mIn[4], line 18\u001B[0m\n\u001B[1;32m      9\u001B[0m \u001B[38;5;66;03m# random search\u001B[39;00m\n\u001B[1;32m     10\u001B[0m hyperparams_list \u001B[38;5;241m+\u001B[39m\u001B[38;5;241m=\u001B[39m [\n\u001B[1;32m     11\u001B[0m     \u001B[38;5;28mdict\u001B[39m(\n\u001B[1;32m     12\u001B[0m         trainer_lr\u001B[38;5;241m=\u001B[39mrandom\u001B[38;5;241m.\u001B[39muniform(\u001B[38;5;241m0\u001B[39m, \u001B[38;5;241m0.01\u001B[39m),\n\u001B[0;32m   (...)\u001B[0m\n\u001B[1;32m     15\u001B[0m     ) \u001B[38;5;28;01mfor\u001B[39;00m _ \u001B[38;5;129;01min\u001B[39;00m \u001B[38;5;28mrange\u001B[39m(\u001B[38;5;241m100\u001B[39m)\n\u001B[1;32m     16\u001B[0m ]\n\u001B[0;32m---> 18\u001B[0m \u001B[43mmodel_selection_pipeline\u001B[49m\u001B[43m(\u001B[49m\u001B[43mhyperparams_list\u001B[49m\u001B[43m,\u001B[49m\u001B[43m \u001B[49m\u001B[43mepochs\u001B[49m\u001B[38;5;241;43m=\u001B[39;49m\u001B[38;5;241;43m20\u001B[39;49m\u001B[43m,\u001B[49m\u001B[43m \u001B[49m\u001B[43mbatch_size\u001B[49m\u001B[38;5;241;43m=\u001B[39;49m\u001B[38;5;241;43m32\u001B[39;49m\u001B[43m,\u001B[49m\u001B[43m \u001B[49m\u001B[43mshuffle\u001B[49m\u001B[38;5;241;43m=\u001B[39;49m\u001B[38;5;28;43;01mTrue\u001B[39;49;00m\u001B[43m,\u001B[49m\u001B[43m \u001B[49m\u001B[38;5;28;43mdir\u001B[39;49m\u001B[38;5;241;43m=\u001B[39;49m\u001B[38;5;124;43m'\u001B[39;49m\u001B[38;5;124;43mhyperparams\u001B[39;49m\u001B[38;5;124;43m'\u001B[39;49m\u001B[43m)\u001B[49m\n",
      "File \u001B[0;32m~/Desktop/Progetti/energiai/src/runner/model_selection_pipeline.py:52\u001B[0m, in \u001B[0;36mmodel_selection_pipeline\u001B[0;34m(hyperparams_list, epochs, batch_size, shuffle, dir)\u001B[0m\n\u001B[1;32m     50\u001B[0m     vl_loss \u001B[38;5;241m=\u001B[39m cache[json\u001B[38;5;241m.\u001B[39mdumps(hyperparams)]\n\u001B[1;32m     51\u001B[0m \u001B[38;5;28;01melse\u001B[39;00m:\n\u001B[0;32m---> 52\u001B[0m     _, vl_loss \u001B[38;5;241m=\u001B[39m \u001B[43mtrainer\u001B[49m\u001B[43m(\u001B[49m\u001B[43mepochs\u001B[49m\u001B[38;5;241;43m=\u001B[39;49m\u001B[43mepochs\u001B[49m\u001B[43m,\u001B[49m\u001B[43m \u001B[49m\u001B[38;5;241;43m*\u001B[39;49m\u001B[38;5;241;43m*\u001B[39;49m\u001B[43mtrainer_hyperparams\u001B[49m\u001B[43m)\u001B[49m\n\u001B[1;32m     54\u001B[0m \u001B[38;5;28;01mif\u001B[39;00m best_loss \u001B[38;5;129;01mis\u001B[39;00m \u001B[38;5;28;01mNone\u001B[39;00m \u001B[38;5;129;01mor\u001B[39;00m best_loss \u001B[38;5;241m>\u001B[39m vl_loss:\n\u001B[1;32m     55\u001B[0m     best_hyperparams \u001B[38;5;241m=\u001B[39m hyperparams\n",
      "File \u001B[0;32m~/Desktop/Progetti/energiai/src/trainer/vae_trainer.py:30\u001B[0m, in \u001B[0;36mVAETrainer.__call__\u001B[0;34m(self, epochs, lr)\u001B[0m\n\u001B[1;32m     28\u001B[0m x \u001B[38;5;241m=\u001B[39m x\u001B[38;5;241m.\u001B[39mto(\u001B[38;5;28mself\u001B[39m\u001B[38;5;241m.\u001B[39mdevice)\n\u001B[1;32m     29\u001B[0m x_hat, mean, log_var \u001B[38;5;241m=\u001B[39m \u001B[38;5;28mself\u001B[39m\u001B[38;5;241m.\u001B[39mmodel(x)\n\u001B[0;32m---> 30\u001B[0m loss \u001B[38;5;241m=\u001B[39m \u001B[38;5;28;43mself\u001B[39;49m\u001B[38;5;241;43m.\u001B[39;49m\u001B[43m__loss_function__\u001B[49m\u001B[43m(\u001B[49m\u001B[43mx\u001B[49m\u001B[43m,\u001B[49m\u001B[43m \u001B[49m\u001B[43mx_hat\u001B[49m\u001B[43m,\u001B[49m\u001B[43m \u001B[49m\u001B[43mmean\u001B[49m\u001B[43m,\u001B[49m\u001B[43m \u001B[49m\u001B[43mlog_var\u001B[49m\u001B[43m)\u001B[49m\n\u001B[1;32m     31\u001B[0m tr_loss \u001B[38;5;241m+\u001B[39m\u001B[38;5;241m=\u001B[39m loss\u001B[38;5;241m.\u001B[39mitem()\n\u001B[1;32m     32\u001B[0m loss\u001B[38;5;241m.\u001B[39mbackward()\n",
      "File \u001B[0;32m~/Desktop/Progetti/energiai/src/trainer/vae_trainer.py:14\u001B[0m, in \u001B[0;36mVAETrainer.__loss_function__\u001B[0;34m(self, x, x_hat, mean, log_var)\u001B[0m\n\u001B[1;32m     13\u001B[0m \u001B[38;5;28;01mdef\u001B[39;00m \u001B[38;5;21m__loss_function__\u001B[39m(\u001B[38;5;28mself\u001B[39m, x, x_hat, mean, log_var):\n\u001B[0;32m---> 14\u001B[0m     reproduction_loss \u001B[38;5;241m=\u001B[39m \u001B[43mnn\u001B[49m\u001B[38;5;241;43m.\u001B[39;49m\u001B[43mfunctional\u001B[49m\u001B[38;5;241;43m.\u001B[39;49m\u001B[43mbinary_cross_entropy\u001B[49m\u001B[43m(\u001B[49m\u001B[43mx_hat\u001B[49m\u001B[43m,\u001B[49m\u001B[43m \u001B[49m\u001B[43mx\u001B[49m\u001B[43m,\u001B[49m\u001B[43m \u001B[49m\u001B[43mreduction\u001B[49m\u001B[38;5;241;43m=\u001B[39;49m\u001B[38;5;124;43m'\u001B[39;49m\u001B[38;5;124;43msum\u001B[39;49m\u001B[38;5;124;43m'\u001B[39;49m\u001B[43m)\u001B[49m\n\u001B[1;32m     15\u001B[0m     KLD \u001B[38;5;241m=\u001B[39m \u001B[38;5;241m-\u001B[39m \u001B[38;5;241m0.5\u001B[39m \u001B[38;5;241m*\u001B[39m torch\u001B[38;5;241m.\u001B[39msum(\u001B[38;5;241m1\u001B[39m \u001B[38;5;241m+\u001B[39m log_var \u001B[38;5;241m-\u001B[39m mean\u001B[38;5;241m.\u001B[39mpow(\u001B[38;5;241m2\u001B[39m) \u001B[38;5;241m-\u001B[39m log_var\u001B[38;5;241m.\u001B[39mexp())\n\u001B[1;32m     16\u001B[0m     \u001B[38;5;28;01mreturn\u001B[39;00m reproduction_loss \u001B[38;5;241m+\u001B[39m KLD\n",
      "File \u001B[0;32m~/Desktop/Progetti/energiai/venv/lib/python3.10/site-packages/torch/nn/functional.py:3122\u001B[0m, in \u001B[0;36mbinary_cross_entropy\u001B[0;34m(input, target, weight, size_average, reduce, reduction)\u001B[0m\n\u001B[1;32m   3119\u001B[0m     new_size \u001B[38;5;241m=\u001B[39m _infer_size(target\u001B[38;5;241m.\u001B[39msize(), weight\u001B[38;5;241m.\u001B[39msize())\n\u001B[1;32m   3120\u001B[0m     weight \u001B[38;5;241m=\u001B[39m weight\u001B[38;5;241m.\u001B[39mexpand(new_size)\n\u001B[0;32m-> 3122\u001B[0m \u001B[38;5;28;01mreturn\u001B[39;00m \u001B[43mtorch\u001B[49m\u001B[38;5;241;43m.\u001B[39;49m\u001B[43m_C\u001B[49m\u001B[38;5;241;43m.\u001B[39;49m\u001B[43m_nn\u001B[49m\u001B[38;5;241;43m.\u001B[39;49m\u001B[43mbinary_cross_entropy\u001B[49m\u001B[43m(\u001B[49m\u001B[38;5;28;43minput\u001B[39;49m\u001B[43m,\u001B[49m\u001B[43m \u001B[49m\u001B[43mtarget\u001B[49m\u001B[43m,\u001B[49m\u001B[43m \u001B[49m\u001B[43mweight\u001B[49m\u001B[43m,\u001B[49m\u001B[43m \u001B[49m\u001B[43mreduction_enum\u001B[49m\u001B[43m)\u001B[49m\n",
      "\u001B[0;31mRuntimeError\u001B[0m: all elements of input should be between 0 and 1"
     ]
    }
   ],
   "source": [
    "# gridsearch\n",
    "hyperparams_list = gridsearch_generator(\n",
    "    dict(\n",
    "        trainer_lr=[0.001, 0.01],\n",
    "        model_hidden_dim=[400],\n",
    "        model_latent_dim=[200],\n",
    "    )\n",
    ")\n",
    "# random search\n",
    "hyperparams_list += [\n",
    "    dict(\n",
    "        trainer_lr=random.uniform(0, 0.01),\n",
    "        model_hidden_dim=random.randint(100, 400),\n",
    "        model_latent_dim=random.randint(100, 400),\n",
    "    ) for _ in range(0)\n",
    "]\n",
    "\n",
    "model_selection_pipeline(hyperparams_list, epochs=20, batch_size=32, shuffle=True, dir='hyperparams')"
   ],
   "metadata": {
    "collapsed": false
   }
  }
 ],
 "metadata": {
  "kernelspec": {
   "display_name": "Python 3",
   "language": "python",
   "name": "python3"
  },
  "language_info": {
   "codemirror_mode": {
    "name": "ipython",
    "version": 2
   },
   "file_extension": ".py",
   "mimetype": "text/x-python",
   "name": "python",
   "nbconvert_exporter": "python",
   "pygments_lexer": "ipython2",
   "version": "2.7.6"
  }
 },
 "nbformat": 4,
 "nbformat_minor": 0
}
