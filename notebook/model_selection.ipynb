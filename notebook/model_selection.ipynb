{
 "cells": [
  {
   "cell_type": "code",
   "execution_count": 1,
   "metadata": {
    "collapsed": true
   },
   "outputs": [
    {
     "name": "stdout",
     "output_type": "stream",
     "text": [
      "/Users/geremiapompei/Desktop/Progetti/energiai\n"
     ]
    }
   ],
   "source": [
    "%cd ..\n",
    "\n",
    "# !git clone https://github.com/GeremiaPompei/energiai\n",
    "# %cd energiai"
   ]
  },
  {
   "cell_type": "code",
   "execution_count": 2,
   "outputs": [],
   "source": [
    "from src.utility.hyperparams_generator import gridsearch_generator\n",
    "from src.runner.model_selection_pipeline import model_selection_pipeline\n",
    "from src.preprocessing import preprocessing_pipeline\n",
    "import random"
   ],
   "metadata": {
    "collapsed": false
   }
  },
  {
   "cell_type": "markdown",
   "source": [
    "## Preprocessing"
   ],
   "metadata": {
    "collapsed": false
   }
  },
  {
   "cell_type": "code",
   "execution_count": 3,
   "outputs": [],
   "source": [
    "preprocessing_pipeline(raw_dir='dataset/raw', output_dir='dataset')"
   ],
   "metadata": {
    "collapsed": false
   }
  },
  {
   "cell_type": "markdown",
   "source": [
    "## Model selection"
   ],
   "metadata": {
    "collapsed": false
   }
  },
  {
   "cell_type": "code",
   "execution_count": null,
   "outputs": [
    {
     "name": "stdout",
     "output_type": "stream",
     "text": [
      "2023-10-31 12:44:35,588 - root - INFO - Start iteration 1/2 => hyperparams: {'trainer_lr': 0.001, 'model_hidden_dim': 400, 'model_latent_dim': 200}\n",
      "2023-10-31 12:44:35,827 - root - INFO - Start iteration 2/2 => hyperparams: {'trainer_lr': 0.01, 'model_hidden_dim': 400, 'model_latent_dim': 200}\n"
     ]
    }
   ],
   "source": [
    "# gridsearch\n",
    "hyperparams_list = gridsearch_generator(\n",
    "    dict(\n",
    "        trainer_lr=[0.001, 0.01],\n",
    "        model_hidden_dim=[400],\n",
    "        model_latent_dim=[200],\n",
    "    )\n",
    ")\n",
    "# random search\n",
    "hyperparams_list += [\n",
    "    dict(\n",
    "        trainer_lr=random.uniform(0, 0.01),\n",
    "        model_hidden_dim=random.randint(100, 400),\n",
    "        model_latent_dim=random.randint(100, 400),\n",
    "    ) for _ in range(0)\n",
    "]\n",
    "\n",
    "model_selection_pipeline(hyperparams_list, epochs=20, batch_size=32, shuffle=True, dataset_dir='dataset/cleaned/',\n",
    "                         hyperparams_path='hyperparams/hyperparams.json')"
   ],
   "metadata": {
    "collapsed": false
   }
  }
 ],
 "metadata": {
  "kernelspec": {
   "display_name": "Python 3",
   "language": "python",
   "name": "python3"
  },
  "language_info": {
   "codemirror_mode": {
    "name": "ipython",
    "version": 2
   },
   "file_extension": ".py",
   "mimetype": "text/x-python",
   "name": "python",
   "nbconvert_exporter": "python",
   "pygments_lexer": "ipython2",
   "version": "2.7.6"
  }
 },
 "nbformat": 4,
 "nbformat_minor": 0
}
